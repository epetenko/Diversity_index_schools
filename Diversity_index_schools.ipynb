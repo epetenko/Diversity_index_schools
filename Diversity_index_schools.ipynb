{
 "cells": [
  {
   "cell_type": "code",
   "execution_count": 1,
   "metadata": {
    "collapsed": true
   },
   "outputs": [],
   "source": [
    "import pandas as pd\n",
    "import matplotlib.pyplot as plt\n",
    "# This Jupyter magic function will draw our charts right into the notebook\n",
    "%matplotlib inline\n"
   ]
  },
  {
   "cell_type": "code",
   "execution_count": 2,
   "metadata": {
    "collapsed": true
   },
   "outputs": [],
   "source": [
    "df = pd.read_csv(\"enrollment_diversity_index_schools.csv\", dtype={\"DIST_ID\":str})"
   ]
  },
  {
   "cell_type": "code",
   "execution_count": 3,
   "metadata": {
    "collapsed": false
   },
   "outputs": [
    {
     "data": {
      "text/plain": [
       "Index([u'﻿COUNTY_ID', u'COUNTY_NAME', u'DIST_ID', u'LEA_NAME', u'SCHOOL_ID',\n",
       "       u'SCHOOL_NAME', u'PRGCODE', u'GRADE_LEVEL', u'WH_M', u'WH_F', u'BL_M',\n",
       "       u'BL_F', u'HI_M', u'HI_F', u'AS_M', u'AS_F', u'AM_M', u'AM_F', u'PI_M',\n",
       "       u'PI_F', u'MU_M', u'MU_F', u'ROW_TOTAL', u'FREE_LUNCH',\n",
       "       u'REDUCED_PRICE_LUNCH', u'LEP', u'MIGRANT', u'White_total',\n",
       "       u'Black_total', u'Hispanic_total', u'Asian_total', u'Other_total',\n",
       "       u'White_pcnt', u'black_pnct', u'Hispanic_pnct', u'Asian_pnct',\n",
       "       u'Other_pnct', u'Diversity_index', u'District_diversity_index',\n",
       "       u'Difference_btwn_schl_distrct'],\n",
       "      dtype='object')"
      ]
     },
     "execution_count": 3,
     "metadata": {},
     "output_type": "execute_result"
    }
   ],
   "source": [
    "df.columns"
   ]
  },
  {
   "cell_type": "code",
   "execution_count": 19,
   "metadata": {
    "collapsed": false
   },
   "outputs": [
    {
     "data": {
      "text/plain": [
       "(array([   8.,   35.,   38.,   75.,   86.,  127.,  119.,  120.,  148.,\n",
       "         128.,  140.,  152.,  177.,  217.,  220.,  191.,  206.,  176.,\n",
       "         124.,   31.]),\n",
       " array([ 0.        ,  0.03879099,  0.07758198,  0.11637297,  0.15516396,\n",
       "         0.19395495,  0.23274594,  0.27153693,  0.31032792,  0.34911891,\n",
       "         0.3879099 ,  0.42670089,  0.46549188,  0.50428287,  0.54307386,\n",
       "         0.58186486,  0.62065585,  0.65944684,  0.69823783,  0.73702882,\n",
       "         0.77581981]),\n",
       " <a list of 20 Patch objects>)"
      ]
     },
     "execution_count": 19,
     "metadata": {},
     "output_type": "execute_result"
    },
    {
     "data": {
      "image/png": "[encoded data removed]",
      "text/plain": [
       "<matplotlib.figure.Figure at 0x11851e3d0>"
      ]
     },
     "metadata": {},
     "output_type": "display_data"
    }
   ],
   "source": [
    "plt.style.use('fivethirtyeight')\n",
    "\n",
    "plt.hist(df[\"Diversity_index\"], bins=20)"
   ]
  },
  {
   "cell_type": "code",
   "execution_count": 18,
   "metadata": {
    "collapsed": false
   },
   "outputs": [],
   "source": [
    "Newark = df[df[\"DIST_ID\"]==\"3570\"]"
   ]
  },
  {
   "cell_type": "code",
   "execution_count": 14,
   "metadata": {
    "collapsed": false
   },
   "outputs": [
    {
     "data": {
      "text/plain": [
       "(array([ 3.,  1.,  0.,  4.,  3.,  7.,  5.,  4.,  3.,  6.,  3.,  4.,  3.,\n",
       "         2.,  5.,  6.,  4.,  0.,  1.,  1.]),\n",
       " array([ 0.04079861,  0.07200875,  0.10321889,  0.13442903,  0.16563917,\n",
       "         0.19684931,  0.22805945,  0.25926959,  0.29047973,  0.32168987,\n",
       "         0.35290001,  0.38411015,  0.41532029,  0.44653043,  0.47774057,\n",
       "         0.50895071,  0.54016085,  0.57137099,  0.60258113,  0.63379127,\n",
       "         0.66500141]),\n",
       " <a list of 20 Patch objects>)"
      ]
     },
     "execution_count": 14,
     "metadata": {},
     "output_type": "execute_result"
    },
    {
     "data": {
      "image/png": "[encoded data removed]",
      "text/plain": [
       "<matplotlib.figure.Figure at 0x118f93c50>"
      ]
     },
     "metadata": {},
     "output_type": "display_data"
    }
   ],
   "source": [
    "plt.hist(Newark[\"Diversity_index\"], bins=20)"
   ]
  },
  {
   "cell_type": "code",
   "execution_count": 20,
   "metadata": {
    "collapsed": false
   },
   "outputs": [],
   "source": [
    "chrts = df[df[\"COUNTY_NAME\"] == 'CHARTERS']"
   ]
  },
  {
   "cell_type": "code",
   "execution_count": 18,
   "metadata": {
    "collapsed": false
   },
   "outputs": [
    {
     "data": {
      "text/plain": [
       "(array([  1.,   3.,   7.,   3.,   0.,   5.,   5.,   2.,   5.,   4.,   3.,\n",
       "          4.,  11.,  10.,   5.,   4.,   4.,   6.,   2.,   5.]),\n",
       " array([ 0.02245424,  0.06012252,  0.09779079,  0.13545907,  0.17312735,\n",
       "         0.21079563,  0.24846391,  0.28613219,  0.32380046,  0.36146874,\n",
       "         0.39913702,  0.4368053 ,  0.47447358,  0.51214186,  0.54981014,\n",
       "         0.58747841,  0.62514669,  0.66281497,  0.70048325,  0.73815153,\n",
       "         0.77581981]),\n",
       " <a list of 20 Patch objects>)"
      ]
     },
     "execution_count": 18,
     "metadata": {},
     "output_type": "execute_result"
    },
    {
     "data": {
      "image/png": "[encoded data removed]",
      "text/plain": [
       "<matplotlib.figure.Figure at 0x119351c50>"
      ]
     },
     "metadata": {},
     "output_type": "display_data"
    }
   ],
   "source": [
    "plt.hist(chrts[\"Diversity_index\"], bins=20)"
   ]
  },
  {
   "cell_type": "code",
   "execution_count": 21,
   "metadata": {
    "collapsed": true
   },
   "outputs": [],
   "source": [
    "voc= df[df['LEA_NAME'].str.contains('VOCATIONAL')]"
   ]
  },
  {
   "cell_type": "code",
   "execution_count": 22,
   "metadata": {
    "collapsed": false
   },
   "outputs": [
    {
     "data": {
      "text/plain": [
       "(array([ 1.,  1.,  0.,  0.,  1.,  2.,  2.,  2.,  6.,  4.,  1.,  3.,  1.,\n",
       "         3.,  5.,  7.,  2.,  7.,  6.,  9.]),\n",
       " array([ 0.        ,  0.03628934,  0.07257867,  0.10886801,  0.14515734,\n",
       "         0.18144668,  0.21773602,  0.25402535,  0.29031469,  0.32660403,\n",
       "         0.36289336,  0.3991827 ,  0.43547203,  0.47176137,  0.50805071,\n",
       "         0.54434004,  0.58062938,  0.61691871,  0.65320805,  0.68949739,\n",
       "         0.72578672]),\n",
       " <a list of 20 Patch objects>)"
      ]
     },
     "execution_count": 22,
     "metadata": {},
     "output_type": "execute_result"
    },
    {
     "data": {
      "image/png": "[encoded data removed]",
      "text/plain": [
       "<matplotlib.figure.Figure at 0x119315b90>"
      ]
     },
     "metadata": {},
     "output_type": "display_data"
    }
   ],
   "source": [
    "plt.hist(voc[\"Diversity_index\"], bins=20)"
   ]
  },
  {
   "cell_type": "code",
   "execution_count": 22,
   "metadata": {
    "collapsed": true
   },
   "outputs": [],
   "source": [
    "uc = df[df[\"DIST_ID\"] == \"5240\"]"
   ]
  },
  {
   "cell_type": "code",
   "execution_count": 24,
   "metadata": {
    "collapsed": false
   },
   "outputs": [
    {
     "data": {
      "text/plain": [
       "(array([ 1.,  1.,  2.,  6.,  0.,  0.,  1.,  0.,  0.,  1.,  0.,  0.,  0.,\n",
       "         0.,  1.,  0.,  0.,  0.,  0.,  1.]),\n",
       " array([ 0.02957892,  0.04178734,  0.05399577,  0.06620419,  0.07841262,\n",
       "         0.09062104,  0.10282947,  0.11503789,  0.12724632,  0.13945474,\n",
       "         0.15166317,  0.16387159,  0.17608002,  0.18828844,  0.20049687,\n",
       "         0.21270529,  0.22491372,  0.23712214,  0.24933057,  0.26153899,\n",
       "         0.27374742]),\n",
       " <a list of 20 Patch objects>)"
      ]
     },
     "execution_count": 24,
     "metadata": {},
     "output_type": "execute_result"
    },
    {
     "data": {
      "image/png": "[encoded data removed]",
      "text/plain": [
       "<matplotlib.figure.Figure at 0x11986a9d0>"
      ]
     },
     "metadata": {},
     "output_type": "display_data"
    }
   ],
   "source": [
    "plt.hist(uc[\"Diversity_index\"], bins=20)"
   ]
  },
  {
   "cell_type": "code",
   "execution_count": 23,
   "metadata": {
    "collapsed": false
   },
   "outputs": [
    {
     "name": "stderr",
     "output_type": "stream",
     "text": [
      "/Users/epetenko/anaconda/lib/python2.7/site-packages/ipykernel/__main__.py:3: SettingWithCopyWarning: \n",
      "A value is trying to be set on a copy of a slice from a DataFrame.\n",
      "Try using .loc[row_indexer,col_indexer] = value instead\n",
      "\n",
      "See the caveats in the documentation: http://pandas.pydata.org/pandas-docs/stable/indexing.html#indexing-view-versus-copy\n",
      "  app.launch_new_instance()\n"
     ]
    }
   ],
   "source": [
    "Dist = df[[\"DIST_ID\", \"Diversity_index\"]]\n",
    "\n",
    "Dist[\"DIST_ID\"] = Dist[\"DIST_ID\"].astype(int)\n"
   ]
  },
  {
   "cell_type": "code",
   "execution_count": 8,
   "metadata": {
    "collapsed": false
   },
   "outputs": [],
   "source": [
    "df[\"Absolute_val\"] = df[\"Difference_btwn_schl_distrct\"].abs()"
   ]
  },
  {
   "cell_type": "code",
   "execution_count": 13,
   "metadata": {
    "collapsed": false
   },
   "outputs": [
    {
     "data": {
      "text/plain": [
       "LEA_NAME\n",
       "NEWARK CITY           2730.537985\n",
       "PATERSON CITY         1157.041248\n",
       "EAST ORANGE            753.774442\n",
       "UNION CITY             725.067434\n",
       "PASSAIC CITY           631.105236\n",
       "ELIZABETH CITY         562.946198\n",
       "EDISON TWP             554.750822\n",
       "JERSEY CITY            546.819448\n",
       "MIDDLETOWN TWP         523.397337\n",
       "NEW BRUNSWICK CITY     458.538839\n",
       "Name: Absolute_val, dtype: float64"
      ]
     },
     "execution_count": 13,
     "metadata": {},
     "output_type": "execute_result"
    }
   ],
   "source": [
    "df.groupby(\"LEA_NAME\").sum().iloc[:,35].sort_values(ascending=False).head(10)"
   ]
  },
  {
   "cell_type": "code",
   "execution_count": 16,
   "metadata": {
    "collapsed": false
   },
   "outputs": [
    {
     "name": "stdout",
     "output_type": "stream",
     "text": [
      "-0.366012798731\n",
      "-0.861069746191\n"
     ]
    }
   ],
   "source": [
    "print df[\"Diversity_index\"].skew()\n",
    "print df[\"Diversity_index\"].kurtosis()"
   ]
  },
  {
   "cell_type": "code",
   "execution_count": 26,
   "metadata": {
    "collapsed": false
   },
   "outputs": [
    {
     "name": "stdout",
     "output_type": "stream",
     "text": [
      "-0.00318957597297\n",
      "-0.832672050655\n"
     ]
    }
   ],
   "source": [
    "print Newark[\"Diversity_index\"].skew()\n",
    "print Newark[\"Diversity_index\"].kurtosis()"
   ]
  },
  {
   "cell_type": "code",
   "execution_count": 27,
   "metadata": {
    "collapsed": false
   },
   "outputs": [
    {
     "name": "stdout",
     "output_type": "stream",
     "text": [
      "-0.291227173407\n",
      "-0.889242603214\n"
     ]
    }
   ],
   "source": [
    "print chrts[\"Diversity_index\"].skew()\n",
    "print chrts[\"Diversity_index\"].kurtosis()"
   ]
  }
 ],
 "metadata": {
  "kernelspec": {
   "display_name": "Python [Root]",
   "language": "python",
   "name": "Python [Root]"
  },
  "language_info": {
   "codemirror_mode": {
    "name": "ipython",
    "version": 2
   },
   "file_extension": ".py",
   "mimetype": "text/x-python",
   "name": "python",
   "nbconvert_exporter": "python",
   "pygments_lexer": "ipython2",
   "version": "2.7.12"
  }
 },
 "nbformat": 4,
 "nbformat_minor": 0
}
